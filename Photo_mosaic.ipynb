{
  "nbformat": 4,
  "nbformat_minor": 0,
  "metadata": {
    "colab": {
      "name": "Photo_from_dice.ipynb",
      "provenance": [],
      "collapsed_sections": [],
      "mount_file_id": "1vQgl-NHnsQ5J4w5VKOk278t4jWx7pCs7",
      "authorship_tag": "ABX9TyNwl2kGfwM1JgRBkb7+DeDj",
      "include_colab_link": true
    },
    "kernelspec": {
      "name": "python3",
      "display_name": "Python 3"
    },
    "language_info": {
      "name": "python"
    }
  },
  "cells": [
    {
      "cell_type": "markdown",
      "metadata": {
        "id": "view-in-github",
        "colab_type": "text"
      },
      "source": [
        "<a href=\"https://colab.research.google.com/github/edenlum/Photo-mosaic/blob/main/Photo_mosaic.ipynb\" target=\"_parent\"><img src=\"https://colab.research.google.com/assets/colab-badge.svg\" alt=\"Open In Colab\"/></a>"
      ]
    },
    {
      "cell_type": "code",
      "execution_count": 1,
      "metadata": {
        "id": "waAHQLW8DABH"
      },
      "outputs": [],
      "source": [
        "import cv2\n",
        "import numpy as np"
      ]
    },
    {
      "cell_type": "code",
      "source": [
        "def quantize(src, color_res, values=None):\n",
        "  gray = cv2.cvtColor(src, cv2.COLOR_BGR2GRAY)\n",
        "  # convert to numpy\n",
        "  gray = np.float32(gray)\n",
        "  if values is None:\n",
        "    delta = 0.5 + 1/256\n",
        "    # make the image have 6 levels of gray\n",
        "    quantized = (np.round(gray*color_res/256+delta) - delta)*256/color_res\n",
        "    # convert back to image\n",
        "  else:\n",
        "    values = np.array(values)\n",
        "    # scale values to between 0 and 255\n",
        "    values = (values - values.min())*255 / (values.max() - values.min())\n",
        "    print(values)\n",
        "    quantized = values[np.abs(gray[np.newaxis, ...] - values.reshape(-1, 1, 1)).argmin(axis=0)]\n",
        "    print(quantized.shape)\n",
        "  return np.uint8(quantized)"
      ],
      "metadata": {
        "id": "UxYQjkkbGG-s"
      },
      "execution_count": 2,
      "outputs": []
    },
    {
      "cell_type": "code",
      "source": [
        "def load_images(images_names):\n",
        "  images = []\n",
        "  for name in images_names:\n",
        "    images.append(cv2.imread(f\"{name}\"))\n",
        "  return images"
      ],
      "metadata": {
        "id": "3l3-Bs7jH8Uu"
      },
      "execution_count": 3,
      "outputs": []
    },
    {
      "cell_type": "code",
      "source": [
        "def change_images_res(images, new_res):\n",
        "  new_images = []\n",
        "  for img in images:\n",
        "    new_images.append(cv2.resize(img, new_res))\n",
        "    \n",
        "  return new_images"
      ],
      "metadata": {
        "id": "GbvkvBZO6fjU"
      },
      "execution_count": 4,
      "outputs": []
    },
    {
      "cell_type": "code",
      "source": [
        "def write_images(names, images):\n",
        "  for name, img in zip(names, images):\n",
        "    cv2.imwrite(f\"{name}.png\", img)"
      ],
      "metadata": {
        "id": "tHku3p7f62FL"
      },
      "execution_count": 5,
      "outputs": []
    },
    {
      "cell_type": "code",
      "source": [
        "def create_image_from_small_images(image_name, images_to_tile_names, res_name, small_res = (20, 20), factor = 4):\n",
        "  to_gray = lambda x: [cv2.cvtColor(img, cv2.COLOR_BGR2GRAY) for img in x]\n",
        "  new_names = [f\"{i}_low_res\" for i in images_to_tile_names]\n",
        "  # load, change res, and convert to grayscale\n",
        "  dice_images = load_images(images_to_tile_names)\n",
        "  low_res_gray = to_gray(change_images_res(dice_images, small_res))\n",
        "  # sort images by average color\n",
        "  low_res_gray_sorted = sorted(low_res_gray, key=lambda x: np.average(x))\n",
        "  values = [np.average(img) for img in low_res_gray_sorted]\n",
        "  # write back results\n",
        "  write_images(new_names, low_res_gray)\n",
        "  # load main image and resize + quantize color (gray scale)\n",
        "  image = cv2.imread(image_name)\n",
        "  image = cv2.resize(image, (image.shape[1]*small_res[0]//factor, image.shape[0]*small_res[1]//factor))\n",
        "  h,w,c = image.shape\n",
        "  resized_image = cv2.resize(image, (w//small_res[1], h//small_res[0]))\n",
        "  quantized = quantize(resized_image, len(low_res_gray), values)\n",
        "  # write to file\n",
        "  cv2.imwrite('quantized.png', quantized)\n",
        "  map = {k:low_res_gray_sorted[i] for i,k in enumerate(np.sort(np.unique(quantized)))}\n",
        "  h,w = quantized.shape\n",
        "  res = np.array([map[k] for k in quantized.flatten()]).reshape(h,w,small_res[0],small_res[1]).swapaxes(1,2)\n",
        "  res = res.reshape((h*small_res[0], w*small_res[1]))\n",
        "  cv2.imwrite(res_name, res)"
      ],
      "metadata": {
        "id": "VtJduvPzXaUL"
      },
      "execution_count": 6,
      "outputs": []
    },
    {
      "cell_type": "code",
      "source": [
        "create_image_from_small_images(\"sam_pepper.jpeg\", [\"8.jpg\", \"7.jpg\",\"6.jpg\",\"5.jpg\",\"4.jpg\",\"3.jpg\",\"2.jpg\",\"1.jpg\"], \"dice_sam.png\", small_res = (100, 100), factor = 4)"
      ],
      "metadata": {
        "colab": {
          "base_uri": "https://localhost:8080/"
        },
        "id": "20Ofoe9kZxx8",
        "outputId": "f32fd851-7ad7-496b-a3b6-243a683d56a4"
      },
      "execution_count": 8,
      "outputs": [
        {
          "output_type": "stream",
          "name": "stdout",
          "text": [
            "[  0.          40.34520422  78.45843598 173.35417341 185.12967354\n",
            " 190.12440632 229.17212911 255.        ]\n",
            "(101, 171)\n"
          ]
        }
      ]
    },
    {
      "cell_type": "code",
      "source": [
        "l = [1,2,3,8,6,5]\n",
        "sorted(l, key=lambda x: np.average(np.array([x])))\n"
      ],
      "metadata": {
        "id": "t5tW6l8UgsD2",
        "colab": {
          "base_uri": "https://localhost:8080/"
        },
        "outputId": "4d68a76f-809f-45da-873d-6fa04d455879"
      },
      "execution_count": null,
      "outputs": [
        {
          "output_type": "execute_result",
          "data": {
            "text/plain": [
              "[1, 2, 3, 5, 6, 8]"
            ]
          },
          "metadata": {},
          "execution_count": 31
        }
      ]
    },
    {
      "cell_type": "code",
      "source": [
        ""
      ],
      "metadata": {
        "id": "24RblnREXDcX"
      },
      "execution_count": null,
      "outputs": []
    }
  ]
}