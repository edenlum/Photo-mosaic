{
  "cells": [
    {
      "cell_type": "markdown",
      "metadata": {
        "colab_type": "text",
        "id": "view-in-github"
      },
      "source": [
        "<a href=\"https://colab.research.google.com/github/edenlum/Photo-mosaic/blob/main/Photo_mosaic.ipynb\" target=\"_parent\"><img src=\"https://colab.research.google.com/assets/colab-badge.svg\" alt=\"Open In Colab\"/></a>"
      ]
    },
    {
      "cell_type": "code",
      "execution_count": null,
      "metadata": {
        "id": "waAHQLW8DABH"
      },
      "outputs": [],
      "source": [
        "import cv2\n",
        "import numpy as np\n",
        "from mosaic import create_image_from_small_images"
      ]
    },
    {
      "cell_type": "code",
      "execution_count": null,
      "metadata": {
        "colab": {
          "base_uri": "https://localhost:8080/"
        },
        "id": "20Ofoe9kZxx8",
        "outputId": "f32fd851-7ad7-496b-a3b6-243a683d56a4"
      },
      "outputs": [
        {
          "name": "stdout",
          "output_type": "stream",
          "text": [
            "[  0.          40.34520422  78.45843598 173.35417341 185.12967354\n",
            " 190.12440632 229.17212911 255.        ]\n",
            "(101, 171)\n"
          ]
        }
      ],
      "source": [
        "create_image_from_small_images(\"sam_pepper.jpeg\", [f\"{i}.png\" for i in range(1, 7)], \"dice_sam.png\", small_res = (20, 20), factor = 2)"
      ]
    }
  ],
  "metadata": {
    "colab": {
      "authorship_tag": "ABX9TyNwl2kGfwM1JgRBkb7+DeDj",
      "collapsed_sections": [],
      "include_colab_link": true,
      "mount_file_id": "1vQgl-NHnsQ5J4w5VKOk278t4jWx7pCs7",
      "name": "Photo_from_dice.ipynb",
      "provenance": []
    },
    "kernelspec": {
      "display_name": "Python 3",
      "name": "python3"
    },
    "language_info": {
      "name": "python"
    }
  },
  "nbformat": 4,
  "nbformat_minor": 0
}
