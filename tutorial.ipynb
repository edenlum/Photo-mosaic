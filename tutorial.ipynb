{
  "cells": [
    {
      "cell_type": "markdown",
      "metadata": {
        "colab_type": "text",
        "id": "view-in-github"
      },
      "source": [
        "<a href=\"https://colab.research.google.com/github/edenlum/Photo-mosaic/blob/main/Photo_mosaic.ipynb\" target=\"_parent\"><img src=\"https://colab.research.google.com/assets/colab-badge.svg\" alt=\"Open In Colab\"/></a>"
      ]
    },
    {
      "cell_type": "code",
      "execution_count": 1,
      "metadata": {
        "id": "waAHQLW8DABH"
      },
      "outputs": [],
      "source": [
        "from mosaic import create_image_from_small_images\n",
        "from pathlib import Path\n",
        "from mosaic import *"
      ]
    },
    {
      "cell_type": "code",
      "execution_count": 2,
      "metadata": {},
      "outputs": [],
      "source": [
        "folder = Path('faces').glob('*')\n",
        "small_images = [i for i in folder]"
      ]
    },
    {
      "cell_type": "code",
      "execution_count": 4,
      "metadata": {
        "colab": {
          "base_uri": "https://localhost:8080/"
        },
        "id": "20Ofoe9kZxx8",
        "outputId": "f32fd851-7ad7-496b-a3b6-243a683d56a4"
      },
      "outputs": [],
      "source": [
        "create_image_from_small_images(\"resources/sam_pepper.jpeg\", \n",
        "small_images, \n",
        "\"faces_sam_use_all.png\", \n",
        "small_res = (64, 64), \n",
        "upscale = 8,\n",
        "gray=False)"
      ]
    },
    {
      "cell_type": "code",
      "execution_count": null,
      "metadata": {},
      "outputs": [],
      "source": []
    }
  ],
  "metadata": {
    "colab": {
      "authorship_tag": "ABX9TyNwl2kGfwM1JgRBkb7+DeDj",
      "collapsed_sections": [],
      "include_colab_link": true,
      "mount_file_id": "1vQgl-NHnsQ5J4w5VKOk278t4jWx7pCs7",
      "name": "Photo_from_dice.ipynb",
      "provenance": []
    },
    "kernelspec": {
      "display_name": "Python 3.9.7 ('base')",
      "language": "python",
      "name": "python3"
    },
    "language_info": {
      "codemirror_mode": {
        "name": "ipython",
        "version": 3
      },
      "file_extension": ".py",
      "mimetype": "text/x-python",
      "name": "python",
      "nbconvert_exporter": "python",
      "pygments_lexer": "ipython3",
      "version": "3.9.7"
    },
    "vscode": {
      "interpreter": {
        "hash": "52433057f58a83a372841d3614a72717a5185c44987ceaca62b2bd49be9e5017"
      }
    }
  },
  "nbformat": 4,
  "nbformat_minor": 0
}
